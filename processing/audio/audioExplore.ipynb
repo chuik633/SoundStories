{
 "cells": [
  {
   "cell_type": "code",
   "execution_count": 3,
   "metadata": {},
   "outputs": [],
   "source": [
    "import pandas as pd\n",
    "import json\n",
    "from os import listdir\n",
    "import numpy as np\n",
    "\n",
    "# sound libs\n",
    "import librosa\n",
    "import pyAudioAnalysis as pya\n",
    "from pyAudioAnalysis import audioTrainTest\n"
   ]
  },
  {
   "cell_type": "code",
   "execution_count": null,
   "metadata": {},
   "outputs": [],
   "source": [
    "from pyAudioAnalysis import audioBasicIO\n",
    "from pyAudioAnalysis import ShortTermFeatures\n",
    "from pyAudioAnalysis import MidTermFeatures\n",
    "import matplotlib.pyplot as plt\n",
    "\n",
    "name = 'andshewas'\n",
    "audioDir = f'./tmp/{name}/audios/'\n",
    "audioFilenames = [audioDir+f for f in listdir(audioDir) if f.endswith('wav')]\n",
    "testFile = audioFilenames[0]\n"
   ]
  },
  {
   "cell_type": "code",
   "execution_count": 5,
   "metadata": {},
   "outputs": [
    {
     "name": "stdout",
     "output_type": "stream",
     "text": [
      "Audio length: 971776\n",
      "Sampling rate: 44100\n",
      "First frame shape: (2205, 2)\n",
      "window_size 2205.0\n",
      "step_Size 882.0\n"
     ]
    }
   ],
   "source": [
    "[Fs, x] = audioBasicIO.read_audio_file(testFile)\n",
    "print(\"Audio length:\", len(x))\n",
    "print(\"Sampling rate:\", Fs)\n",
    "\n",
    "\n",
    "frame = x[:2205]  # First frame of the signal\n",
    "print(f\"First frame shape: {frame.shape}\")\n",
    "\n",
    "# convert stereo to mono. stereo ahs 2 channels\n",
    "if x.shape[1] == 2:\n",
    "    x = np.mean(x, axis=1) \n",
    "\n",
    "window_size = .05*Fs\n",
    "step_size = .02*Fs\n",
    "print(\"window_size\", window_size)\n",
    "print(\"step_Size\", step_size)\n",
    "\n"
   ]
  },
  {
   "cell_type": "markdown",
   "metadata": {},
   "source": [
    "Short vs. Mid. Midterm is better for overall/aggregate summaries of aduio. SO i will use midterm feature extraction for the summary stats for each audio file. Short term is good for things like note events, i might use this for art later. Mid ex has a bigger step size than short"
   ]
  },
  {
   "cell_type": "code",
   "execution_count": 6,
   "metadata": {},
   "outputs": [
    {
     "name": "stdout",
     "output_type": "stream",
     "text": [
      "['zcr', 'energy', 'energy_entropy', 'spectral_centroid', 'spectral_spread', 'spectral_entropy', 'spectral_flux', 'spectral_rolloff', 'mfcc_1', 'mfcc_2', 'mfcc_3', 'mfcc_4', 'mfcc_5', 'mfcc_6', 'mfcc_7', 'mfcc_8', 'mfcc_9', 'mfcc_10', 'mfcc_11', 'mfcc_12', 'mfcc_13', 'chroma_1', 'chroma_2', 'chroma_3', 'chroma_4', 'chroma_5', 'chroma_6', 'chroma_7', 'chroma_8', 'chroma_9', 'chroma_10', 'chroma_11', 'chroma_12', 'chroma_std', 'delta zcr', 'delta energy', 'delta energy_entropy', 'delta spectral_centroid', 'delta spectral_spread', 'delta spectral_entropy', 'delta spectral_flux', 'delta spectral_rolloff', 'delta mfcc_1', 'delta mfcc_2', 'delta mfcc_3', 'delta mfcc_4', 'delta mfcc_5', 'delta mfcc_6', 'delta mfcc_7', 'delta mfcc_8', 'delta mfcc_9', 'delta mfcc_10', 'delta mfcc_11', 'delta mfcc_12', 'delta mfcc_13', 'delta chroma_1', 'delta chroma_2', 'delta chroma_3', 'delta chroma_4', 'delta chroma_5', 'delta chroma_6', 'delta chroma_7', 'delta chroma_8', 'delta chroma_9', 'delta chroma_10', 'delta chroma_11', 'delta chroma_12', 'delta chroma_std']\n"
     ]
    }
   ],
   "source": [
    "# short term for more specific things liek spectral features, zero crossing etc\n",
    "F, f_names = ShortTermFeatures.feature_extraction(x, Fs, window_size, step_size)\n",
    "print(f_names)"
   ]
  },
  {
   "cell_type": "code",
   "execution_count": 7,
   "metadata": {},
   "outputs": [
    {
     "name": "stdout",
     "output_type": "stream",
     "text": [
      "['zcr_mean', 'energy_mean', 'energy_entropy_mean', 'spectral_centroid_mean', 'spectral_spread_mean', 'spectral_entropy_mean', 'spectral_flux_mean', 'spectral_rolloff_mean', 'mfcc_1_mean', 'mfcc_2_mean', 'mfcc_3_mean', 'mfcc_4_mean', 'mfcc_5_mean', 'mfcc_6_mean', 'mfcc_7_mean', 'mfcc_8_mean', 'mfcc_9_mean', 'mfcc_10_mean', 'mfcc_11_mean', 'mfcc_12_mean', 'mfcc_13_mean', 'chroma_1_mean', 'chroma_2_mean', 'chroma_3_mean', 'chroma_4_mean', 'chroma_5_mean', 'chroma_6_mean', 'chroma_7_mean', 'chroma_8_mean', 'chroma_9_mean', 'chroma_10_mean', 'chroma_11_mean', 'chroma_12_mean', 'chroma_std_mean', 'delta zcr_mean', 'delta energy_mean', 'delta energy_entropy_mean', 'delta spectral_centroid_mean', 'delta spectral_spread_mean', 'delta spectral_entropy_mean', 'delta spectral_flux_mean', 'delta spectral_rolloff_mean', 'delta mfcc_1_mean', 'delta mfcc_2_mean', 'delta mfcc_3_mean', 'delta mfcc_4_mean', 'delta mfcc_5_mean', 'delta mfcc_6_mean', 'delta mfcc_7_mean', 'delta mfcc_8_mean', 'delta mfcc_9_mean', 'delta mfcc_10_mean', 'delta mfcc_11_mean', 'delta mfcc_12_mean', 'delta mfcc_13_mean', 'delta chroma_1_mean', 'delta chroma_2_mean', 'delta chroma_3_mean', 'delta chroma_4_mean', 'delta chroma_5_mean', 'delta chroma_6_mean', 'delta chroma_7_mean', 'delta chroma_8_mean', 'delta chroma_9_mean', 'delta chroma_10_mean', 'delta chroma_11_mean', 'delta chroma_12_mean', 'delta chroma_std_mean', 'zcr_std', 'energy_std', 'energy_entropy_std', 'spectral_centroid_std', 'spectral_spread_std', 'spectral_entropy_std', 'spectral_flux_std', 'spectral_rolloff_std', 'mfcc_1_std', 'mfcc_2_std', 'mfcc_3_std', 'mfcc_4_std', 'mfcc_5_std', 'mfcc_6_std', 'mfcc_7_std', 'mfcc_8_std', 'mfcc_9_std', 'mfcc_10_std', 'mfcc_11_std', 'mfcc_12_std', 'mfcc_13_std', 'chroma_1_std', 'chroma_2_std', 'chroma_3_std', 'chroma_4_std', 'chroma_5_std', 'chroma_6_std', 'chroma_7_std', 'chroma_8_std', 'chroma_9_std', 'chroma_10_std', 'chroma_11_std', 'chroma_12_std', 'chroma_std_std', 'delta zcr_std', 'delta energy_std', 'delta energy_entropy_std', 'delta spectral_centroid_std', 'delta spectral_spread_std', 'delta spectral_entropy_std', 'delta spectral_flux_std', 'delta spectral_rolloff_std', 'delta mfcc_1_std', 'delta mfcc_2_std', 'delta mfcc_3_std', 'delta mfcc_4_std', 'delta mfcc_5_std', 'delta mfcc_6_std', 'delta mfcc_7_std', 'delta mfcc_8_std', 'delta mfcc_9_std', 'delta mfcc_10_std', 'delta mfcc_11_std', 'delta mfcc_12_std', 'delta mfcc_13_std', 'delta chroma_1_std', 'delta chroma_2_std', 'delta chroma_3_std', 'delta chroma_4_std', 'delta chroma_5_std', 'delta chroma_6_std', 'delta chroma_7_std', 'delta chroma_8_std', 'delta chroma_9_std', 'delta chroma_10_std', 'delta chroma_11_std', 'delta chroma_12_std', 'delta chroma_std_std']\n"
     ]
    }
   ],
   "source": [
    "# Midterm features are better for global things like statistical aggregates, beat, tempo, tonal things,\n",
    "mid_window_size = 2.0 *Fs\n",
    "short_window_size = .025*Fs\n",
    "mid_features, short_features, mid_feature_names = MidTermFeatures.mid_feature_extraction(x, Fs,mid_window_size  , 1.0*Fs,\n",
    "                           short_window_size, .01*Fs)\n",
    "print(mid_feature_names)"
   ]
  },
  {
   "cell_type": "code",
   "execution_count": 8,
   "metadata": {},
   "outputs": [],
   "source": [
    "#quickly visualize with CHATGPT for this code\n",
    "\n",
    "\n",
    "# Mid-term features visualization\n",
    "def plot_midterm_features(mid_features, feature_names, title=\"Mid-Term Features\"):\n",
    "    num_features = mid_features.shape[0] \n",
    "    \n",
    "    # Create subplots\n",
    "    fig, axes = plt.subplots(num_features, 1, figsize=(10, 2 * num_features))\n",
    "    \n",
    "    # If there's only one feature, make axes a list\n",
    "    if num_features == 1:\n",
    "        axes = [axes]\n",
    "    \n",
    "    for i in range(num_features):\n",
    "        axes[i].plot(mid_features[i, :])\n",
    "        axes[i].set_title(feature_names[i])\n",
    "        axes[i].set_xlabel(\"Frame Number\")\n",
    "        axes[i].set_ylabel(feature_names[i])\n",
    "    \n",
    "    plt.tight_layout()\n",
    "    plt.show()\n",
    "\n",
    "# Short-term features visualization (you can visualize a few features of interest)\n",
    "def plot_shortterm_features(short_features, feature_names, title=\"Short-Term Features\"):\n",
    "    num_features = short_features.shape[0] \n",
    "    \n",
    "    # Create subplots\n",
    "    fig, axes = plt.subplots(num_features, 1, figsize=(10, 2 * num_features))\n",
    "    \n",
    "    # If there's only one feature, make axes a list\n",
    "    if num_features == 1:\n",
    "        axes = [axes]\n",
    "    \n",
    "    for i in range(num_features):\n",
    "        axes[i].plot(short_features[i, :])\n",
    "        axes[i].set_title(feature_names[i])\n",
    "        axes[i].set_xlabel(\"Frame Number\")\n",
    "        axes[i].set_ylabel(feature_names[i])\n",
    "    \n",
    "    plt.tight_layout()\n",
    "    plt.show()\n",
    "\n",
    "\n",
    "# plot_midterm_features(mid_features, mid_feature_names, title=\"Mid-Term Features\")\n",
    "# plot_shortterm_features(short_features, f_names, title=\"Short-Term Features\")\n"
   ]
  },
  {
   "cell_type": "markdown",
   "metadata": {},
   "source": [
    "now that i have the features, i want do extract things LIKE: \n",
    "1. beat (get the bpm, ratio is the confidence of that value)\n",
    "2. chromagram"
   ]
  },
  {
   "cell_type": "code",
   "execution_count": 9,
   "metadata": {},
   "outputs": [
    {
     "data": {
      "image/png": "[encoded data removed]",
      "text/plain": [
       "<Figure size 640x480 with 18 Axes>"
      ]
     },
     "metadata": {},
     "output_type": "display_data"
    },
    {
     "data": {
      "image/png": "[encoded data removed]",
      "text/plain": [
       "<Figure size 640x480 with 1 Axes>"
      ]
     },
     "metadata": {},
     "output_type": "display_data"
    },
    {
     "name": "stdout",
     "output_type": "stream",
     "text": [
      "BPM 30.0\n",
      "ratio 0.9999997105263996\n"
     ]
    }
   ],
   "source": [
    "\n",
    "bpm, ratio = MidTermFeatures.beat_extraction(F, 1, plot=True)\n",
    "print(\"BPM\", bpm)\n",
    "print('ratio', ratio)\n"
   ]
  },
  {
   "cell_type": "code",
   "execution_count": 31,
   "metadata": {},
   "outputs": [
    {
     "name": "stdout",
     "output_type": "stream",
     "text": [
      "SIZES 2205.0 882.0\n"
     ]
    },
    {
     "name": "stderr",
     "output_type": "stream",
     "text": [
      "100%|██████████| 1099/1099 [00:00<00:00, 3591.04it/s]\n"
     ]
    },
    {
     "data": {
      "image/png": "[encoded data removed]",
      "text/plain": [
       "<Figure size 640x480 with 2 Axes>"
      ]
     },
     "metadata": {},
     "output_type": "display_data"
    },
    {
     "name": "stdout",
     "output_type": "stream",
     "text": [
      "SHAPE (12, 1099)\n",
      "time axis 1099\n",
      "{0.0: ['F'],\n",
      " 0.02: ['F'],\n",
      " 0.04: [],\n",
      " 0.06: [],\n",
      " 0.08: [],\n",
      " 0.1: ['A#'],\n",
      " 0.12: [],\n",
      " 0.14: [],\n",
      " 0.16: ['F#'],\n",
      " 0.18: ['F#'],\n",
      " 0.2: ['F#'],\n",
      " 0.22: [],\n",
      " 0.24: ['C#'],\n",
      " 0.26: ['C#'],\n",
      " 0.28: ['C#'],\n",
      " 0.3: ['C#'],\n",
      " 0.32: ['C#'],\n",
      " 0.34: ['C#'],\n",
      " 0.36: [],\n",
      " 0.38: [],\n",
      " 0.4: ['F#'],\n",
      " 0.42: [],\n",
      " 0.44: ['E'],\n",
      " 0.46: ['E'],\n",
      " 0.48: [],\n",
      " 0.5: [],\n",
      " 0.52: [],\n",
      " 0.54: [],\n",
      " 0.56: [],\n",
      " 0.58: ['F'],\n",
      " 0.6: ['F'],\n",
      " 0.62: [],\n",
      " 0.64: [],\n",
      " 0.66: [],\n",
      " 0.68: [],\n",
      " 0.7: [],\n",
      " 0.72: ['A#'],\n",
      " 0.74: [],\n",
      " 0.76: [],\n",
      " 0.78: [],\n",
      " 0.8: [],\n",
      " 0.82: [],\n",
      " 0.84: ['C#'],\n",
      " 0.86: ['C#'],\n",
      " 0.88: ['C#'],\n",
      " 0.9: ['C#'],\n",
      " 0.92: ['C#'],\n",
      " 0.94: ['C#'],\n",
      " 0.96: ['C#'],\n",
      " 0.98: ['C#'],\n",
      " 1.0: [],\n",
      " 1.02: [],\n",
      " 1.04: [],\n",
      " 1.06: [],\n",
      " 1.08: [],\n",
      " 1.1: [],\n",
      " 1.12: [],\n",
      " 1.14: [],\n",
      " 1.16: [],\n",
      " 1.18: [],\n",
      " 1.2: ['F'],\n",
      " 1.22: ['F'],\n",
      " 1.24: ['F'],\n",
      " 1.26: [],\n",
      " 1.28: [],\n",
      " 1.3: [],\n",
      " 1.32: ['A#'],\n",
      " 1.34: [],\n",
      " 1.36: ['A#'],\n",
      " 1.38: [],\n",
      " 1.4: [],\n",
      " 1.42: [],\n",
      " 1.44: ['C#'],\n",
      " 1.46: ['C#'],\n",
      " 1.48: ['C#'],\n",
      " 1.5: ['C#'],\n",
      " 1.52: ['C#'],\n",
      " 1.54: ['C#'],\n",
      " 1.56: ['C#'],\n",
      " 1.58: [],\n",
      " 1.6: [],\n",
      " 1.62: ['E'],\n",
      " 1.64: [],\n",
      " 1.66: [],\n",
      " 1.68: [],\n",
      " 1.7: [],\n",
      " 1.72: [],\n",
      " 1.74: [],\n",
      " 1.76: [],\n",
      " 1.78: [],\n",
      " 1.8: [],\n",
      " 1.82: ['F'],\n",
      " 1.84: ['F'],\n",
      " 1.86: ['F'],\n",
      " 1.88: ['F'],\n",
      " 1.9: [],\n",
      " 1.92: [],\n",
      " 1.94: [],\n",
      " 1.96: [],\n",
      " 1.98: [],\n",
      " 2.0: [],\n",
      " 2.02: [],\n",
      " 2.04: [],\n",
      " 2.06: [],\n",
      " 2.08: ['C#'],\n",
      " 2.1: ['C#'],\n",
      " 2.12: ['C#'],\n",
      " 2.14: ['C#'],\n",
      " 2.16: ['C#'],\n",
      " 2.18: [],\n",
      " 2.2: ['D#'],\n",
      " 2.22: ['E'],\n",
      " 2.24: [],\n",
      " 2.26: ['A#'],\n",
      " 2.28: ['B'],\n",
      " 2.3: [],\n",
      " 2.32: [],\n",
      " 2.34: [],\n",
      " 2.36: ['A#'],\n",
      " 2.38: ['A#'],\n",
      " 2.4: ['A#'],\n",
      " 2.42: [],\n",
      " 2.44: [],\n",
      " 2.46: [],\n",
      " 2.48: [],\n",
      " 2.5: [],\n",
      " 2.52: [],\n",
      " 2.54: [],\n",
      " 2.56: [],\n",
      " 2.58: [],\n",
      " 2.6: [],\n",
      " 2.62: [],\n",
      " 2.64: [],\n",
      " 2.66: [],\n",
      " 2.68: [],\n",
      " 2.7: [],\n",
      " 2.72: [],\n",
      " 2.74: [],\n",
      " 2.76: [],\n",
      " 2.78: [],\n",
      " 2.8: [],\n",
      " 2.82: ['A'],\n",
      " 2.84: [],\n",
      " 2.86: [],\n",
      " 2.88: [],\n",
      " 2.9: ['C#'],\n",
      " 2.92: [],\n",
      " 2.94: [],\n",
      " 2.96: ['A'],\n",
      " 2.98: [],\n",
      " 3.0: [],\n",
      " 3.02: [],\n",
      " 3.04: [],\n",
      " 3.06: [],\n",
      " 3.08: [],\n",
      " 3.1: [],\n",
      " 3.12: [],\n",
      " 3.14: [],\n",
      " 3.16: [],\n",
      " 3.18: [],\n",
      " 3.2: [],\n",
      " 3.22: [],\n",
      " 3.24: [],\n",
      " 3.26: [],\n",
      " 3.28: [],\n",
      " 3.3: [],\n",
      " 3.32: [],\n",
      " 3.34: [],\n",
      " 3.36: [],\n",
      " 3.38: [],\n",
      " 3.4: [],\n",
      " 3.42: [],\n",
      " 3.44: [],\n",
      " 3.46: ['C#'],\n",
      " 3.48: ['C#'],\n",
      " 3.5: ['C#'],\n",
      " 3.52: ['C#'],\n",
      " 3.54: ['C#'],\n",
      " 3.56: ['C#'],\n",
      " 3.58: [],\n",
      " 3.6: [],\n",
      " 3.62: [],\n",
      " 3.64: [],\n",
      " 3.66: [],\n",
      " 3.68: [],\n",
      " 3.7: [],\n",
      " 3.72: [],\n",
      " 3.74: [],\n",
      " 3.76: [],\n",
      " 3.78: [],\n",
      " 3.8: [],\n",
      " 3.82: [],\n",
      " 3.84: [],\n",
      " 3.86: [],\n",
      " 3.88: [],\n",
      " 3.9: [],\n",
      " 3.92: [],\n",
      " 3.94: [],\n",
      " 3.96: [],\n",
      " 3.98: [],\n",
      " 4.0: [],\n",
      " 4.02: [],\n",
      " 4.04: ['C#'],\n",
      " 4.06: ['C#'],\n",
      " 4.08: ['C#'],\n",
      " 4.1: ['C#'],\n",
      " 4.12: ['C#'],\n",
      " 4.14: ['C#'],\n",
      " 4.16: ['C#'],\n",
      " 4.18: ['C#'],\n",
      " 4.2: ['C#'],\n",
      " 4.22: [],\n",
      " 4.24: [],\n",
      " 4.26: [],\n",
      " 4.28: [],\n",
      " 4.3: [],\n",
      " 4.32: [],\n",
      " 4.34: [],\n",
      " 4.36: [],\n",
      " 4.38: [],\n",
      " 4.4: [],\n",
      " 4.42: [],\n",
      " 4.44: [],\n",
      " 4.46: [],\n",
      " 4.48: [],\n",
      " 4.5: ['A'],\n",
      " 4.52: ['A'],\n",
      " 4.54: ['A'],\n",
      " 4.56: ['A'],\n",
      " 4.58: ['A'],\n",
      " 4.6: [],\n",
      " 4.62: ['E'],\n",
      " 4.64: ['E'],\n",
      " 4.66: [],\n",
      " 4.68: ['C#'],\n",
      " 4.7: ['C#'],\n",
      " 4.72: ['C#'],\n",
      " 4.74: [],\n",
      " 4.76: [],\n",
      " 4.78: [],\n",
      " 4.8: [],\n",
      " 4.82: [],\n",
      " 4.84: [],\n",
      " 4.86: [],\n",
      " 4.88: [],\n",
      " 4.9: [],\n",
      " 4.92: [],\n",
      " 4.94: [],\n",
      " 4.96: [],\n",
      " 4.98: [],\n",
      " 5.0: [],\n",
      " 5.02: [],\n",
      " 5.04: [],\n",
      " 5.06: [],\n",
      " 5.08: [],\n",
      " 5.1: [],\n",
      " 5.12: [],\n",
      " 5.14: [],\n",
      " 5.16: [],\n",
      " 5.18: [],\n",
      " 5.2: [],\n",
      " 5.22: [],\n",
      " 5.24: ['E'],\n",
      " 5.26: ['C#'],\n",
      " 5.28: ['C#'],\n",
      " 5.3: ['C#'],\n",
      " 5.32: ['C#'],\n",
      " 5.34: ['C#'],\n",
      " 5.36: ['C#'],\n",
      " 5.38: ['C#'],\n",
      " 5.4: [],\n",
      " 5.42: [],\n",
      " 5.44: [],\n",
      " 5.46: [],\n",
      " 5.48: [],\n",
      " 5.5: [],\n",
      " 5.52: [],\n",
      " 5.54: [],\n",
      " 5.56: [],\n",
      " 5.58: [],\n",
      " 5.6: [],\n",
      " 5.62: [],\n",
      " 5.64: [],\n",
      " 5.66: [],\n",
      " 5.68: [],\n",
      " 5.7: [],\n",
      " 5.72: [],\n",
      " 5.74: [],\n",
      " 5.76: [],\n",
      " 5.78: [],\n",
      " 5.8: [],\n",
      " 5.82: ['E'],\n",
      " 5.84: ['C#'],\n",
      " 5.86: ['C#'],\n",
      " 5.88: ['C#'],\n",
      " 5.9: ['C#'],\n",
      " 5.92: ['C#'],\n",
      " 5.94: ['C#'],\n",
      " 5.96: ['C#'],\n",
      " 5.98: ['C#'],\n",
      " 6.0: [],\n",
      " 6.02: ['A#'],\n",
      " 6.04: ['A#'],\n",
      " 6.06: ['C', 'A#'],\n",
      " 6.08: ['C'],\n",
      " 6.1: ['C'],\n",
      " 6.12: ['C'],\n",
      " 6.14: ['C'],\n",
      " 6.16: ['C'],\n",
      " 6.18: ['C'],\n",
      " 6.2: ['A#'],\n",
      " 6.22: ['A'],\n",
      " 6.24: ['A'],\n",
      " 6.26: ['A'],\n",
      " 6.28: ['A'],\n",
      " 6.3: ['A'],\n",
      " 6.32: ['A'],\n",
      " 6.34: ['A'],\n",
      " 6.36: ['A'],\n",
      " 6.38: ['A'],\n",
      " 6.4: ['A'],\n",
      " 6.42: [],\n",
      " 6.44: ['D#'],\n",
      " 6.46: [],\n",
      " 6.48: ['D'],\n",
      " 6.5: ['D'],\n",
      " 6.52: ['F#'],\n",
      " 6.54: ['F#'],\n",
      " 6.56: [],\n",
      " 6.58: [],\n",
      " 6.6: ['A#'],\n",
      " 6.62: ['A#'],\n",
      " 6.64: ['A#'],\n",
      " 6.66: ['A#'],\n",
      " 6.68: ['A#'],\n",
      " 6.7: ['A#'],\n",
      " 6.72: ['A#'],\n",
      " 6.74: ['A#'],\n",
      " 6.76: ['A#'],\n",
      " 6.78: ['A#'],\n",
      " 6.8: ['A'],\n",
      " 6.82: ['A'],\n",
      " 6.84: ['A'],\n",
      " 6.86: ['A'],\n",
      " 6.88: ['A'],\n",
      " 6.9: ['A'],\n",
      " 6.92: ['A'],\n",
      " 6.94: ['A'],\n",
      " 6.96: ['A'],\n",
      " 6.98: ['A'],\n",
      " 7.0: [],\n",
      " 7.02: [],\n",
      " 7.04: [],\n",
      " 7.06: [],\n",
      " 7.08: ['F#'],\n",
      " 7.1: ['F#'],\n",
      " 7.12: ['F#'],\n",
      " 7.14: ['F#'],\n",
      " 7.16: ['F#'],\n",
      " 7.18: [],\n",
      " 7.2: ['F'],\n",
      " 7.22: ['F'],\n",
      " 7.24: ['F'],\n",
      " 7.26: ['F'],\n",
      " 7.28: ['F'],\n",
      " 7.3: ['F'],\n",
      " 7.32: ['F'],\n",
      " 7.34: ['F'],\n",
      " 7.36: [],\n",
      " 7.38: [],\n",
      " 7.4: [],\n",
      " 7.42: [],\n",
      " 7.44: [],\n",
      " 7.46: ['C#'],\n",
      " 7.48: [],\n",
      " 7.5: [],\n",
      " 7.52: ['F#'],\n",
      " 7.54: [],\n",
      " 7.56: ['F#'],\n",
      " 7.58: ['F#'],\n",
      " 7.6: ['F#'],\n",
      " 7.62: [],\n",
      " 7.64: [],\n",
      " 7.66: [],\n",
      " 7.68: [],\n",
      " 7.7: ['F#'],\n",
      " 7.72: ['F#'],\n",
      " 7.74: ['F#'],\n",
      " 7.76: ['F#'],\n",
      " 7.78: ['F#'],\n",
      " 7.8: ['F'],\n",
      " 7.82: ['F'],\n",
      " 7.84: ['F'],\n",
      " 7.86: ['F'],\n",
      " 7.88: ['F'],\n",
      " 7.9: [],\n",
      " 7.92: [],\n",
      " 7.94: [],\n",
      " 7.96: [],\n",
      " 7.98: ['F#'],\n",
      " 8.0: [],\n",
      " 8.02: ['F#'],\n",
      " 8.04: [],\n",
      " 8.06: ['C#'],\n",
      " 8.08: ['C#'],\n",
      " 8.1: ['C#'],\n",
      " 8.12: ['C#'],\n",
      " 8.14: ['C#'],\n",
      " 8.16: ['F#'],\n",
      " 8.18: ['F#'],\n",
      " 8.2: [],\n",
      " 8.22: [],\n",
      " 8.24: ['A#'],\n",
      " 8.26: [],\n",
      " 8.28: [],\n",
      " 8.3: [],\n",
      " 8.32: [],\n",
      " 8.34: [],\n",
      " 8.36: [],\n",
      " 8.38: [],\n",
      " 8.4: [],\n",
      " 8.42: ['F'],\n",
      " 8.44: ['F'],\n",
      " 8.46: ['F'],\n",
      " 8.48: ['F'],\n",
      " 8.5: [],\n",
      " 8.52: [],\n",
      " 8.54: [],\n",
      " 8.56: [],\n",
      " 8.58: [],\n",
      " 8.6: [],\n",
      " 8.62: [],\n",
      " 8.64: [],\n",
      " 8.66: ['C#'],\n",
      " 8.68: ['C#'],\n",
      " 8.7: ['C#'],\n",
      " 8.72: ['C#'],\n",
      " 8.74: ['C#'],\n",
      " 8.76: ['C#'],\n",
      " 8.78: ['C#'],\n",
      " 8.8: [],\n",
      " 8.82: [],\n",
      " 8.84: [],\n",
      " 8.86: ['E'],\n",
      " 8.88: ['E'],\n",
      " 8.9: [],\n",
      " 8.92: [],\n",
      " 8.94: [],\n",
      " 8.96: [],\n",
      " 8.98: [],\n",
      " 9.0: [],\n",
      " 9.02: [],\n",
      " 9.04: [],\n",
      " 9.06: [],\n",
      " 9.08: [],\n",
      " 9.1: ['A#'],\n",
      " 9.12: [],\n",
      " 9.14: [],\n",
      " 9.16: ['A#'],\n",
      " 9.18: [],\n",
      " 9.2: ['A#'],\n",
      " 9.22: [],\n",
      " 9.24: ['C#'],\n",
      " 9.26: ['C#'],\n",
      " 9.28: ['C#'],\n",
      " 9.3: ['C#'],\n",
      " 9.32: ['C#'],\n",
      " 9.34: ['C#'],\n",
      " 9.36: [],\n",
      " 9.38: [],\n",
      " 9.4: [],\n",
      " 9.42: [],\n",
      " 9.44: [],\n",
      " 9.46: ['E'],\n",
      " 9.48: [],\n",
      " 9.5: [],\n",
      " 9.52: [],\n",
      " 9.54: [],\n",
      " 9.56: [],\n",
      " 9.58: [],\n",
      " 9.6: [],\n",
      " 9.62: ['F'],\n",
      " 9.64: ['F'],\n",
      " 9.66: [],\n",
      " 9.68: [],\n",
      " 9.7: [],\n",
      " 9.72: [],\n",
      " 9.74: [],\n",
      " 9.76: [],\n",
      " 9.78: [],\n",
      " 9.8: [],\n",
      " 9.82: [],\n",
      " 9.84: ['C#'],\n",
      " 9.86: ['C#'],\n",
      " 9.88: ['C#'],\n",
      " 9.9: ['C#'],\n",
      " 9.92: ['C#'],\n",
      " 9.94: ['C#'],\n",
      " 9.96: [],\n",
      " 9.98: [],\n",
      " 10.0: ['F#'],\n",
      " 10.02: [],\n",
      " 10.04: [],\n",
      " 10.06: [],\n",
      " 10.08: [],\n",
      " 10.1: [],\n",
      " 10.12: [],\n",
      " 10.14: [],\n",
      " 10.16: [],\n",
      " 10.18: [],\n",
      " 10.2: [],\n",
      " 10.22: ['F'],\n",
      " 10.24: ['F'],\n",
      " 10.26: ['F'],\n",
      " 10.28: ['F'],\n",
      " 10.3: [],\n",
      " 10.32: [],\n",
      " 10.34: [],\n",
      " 10.36: [],\n",
      " 10.38: [],\n",
      " 10.4: [],\n",
      " 10.42: [],\n",
      " 10.44: ['C#'],\n",
      " 10.46: ['C#'],\n",
      " 10.48: ['C#'],\n",
      " 10.5: ['C#'],\n",
      " 10.52: ['C#'],\n",
      " 10.54: ['C#'],\n",
      " 10.56: ['C#'],\n",
      " 10.58: ['D#'],\n",
      " 10.6: ['E'],\n",
      " 10.62: ['E'],\n",
      " 10.64: ['A#'],\n",
      " 10.66: ['B'],\n",
      " 10.68: ['B'],\n",
      " 10.7: [],\n",
      " 10.72: ['B'],\n",
      " 10.74: [],\n",
      " 10.76: [],\n",
      " 10.78: [],\n",
      " 10.8: ['C'],\n",
      " 10.82: ['C'],\n",
      " 10.84: ['C'],\n",
      " 10.86: ['C'],\n",
      " 10.88: ['C'],\n",
      " 10.9: ['C'],\n",
      " 10.92: ['C'],\n",
      " 10.94: ['C'],\n",
      " 10.96: ['C'],\n",
      " 10.98: ['C'],\n",
      " 11.0: ['C'],\n",
      " 11.02: ['C'],\n",
      " 11.04: ['C'],\n",
      " 11.06: ['C'],\n",
      " 11.08: ['C'],\n",
      " 11.1: ['C'],\n",
      " 11.12: ['C'],\n",
      " 11.14: ['C'],\n",
      " 11.16: ['C'],\n",
      " 11.18: ['C'],\n",
      " 11.2: ['C'],\n",
      " 11.22: ['C'],\n",
      " 11.24: ['F'],\n",
      " 11.26: ['F'],\n",
      " 11.28: ['F'],\n",
      " 11.3: [],\n",
      " 11.32: [],\n",
      " 11.34: [],\n",
      " 11.36: [],\n",
      " 11.38: ['C'],\n",
      " 11.4: ['C'],\n",
      " 11.42: ['C'],\n",
      " 11.44: ['C'],\n",
      " 11.46: ['C'],\n",
      " 11.48: ['C'],\n",
      " 11.5: ['C'],\n",
      " 11.52: ['C'],\n",
      " 11.54: ['C'],\n",
      " 11.56: [],\n",
      " 11.58: [],\n",
      " 11.6: ['A#'],\n",
      " 11.62: [],\n",
      " 11.64: [],\n",
      " 11.66: [],\n",
      " 11.68: [],\n",
      " 11.7: ['C'],\n",
      " 11.72: ['C'],\n",
      " 11.74: ['C'],\n",
      " 11.76: ['C'],\n",
      " 11.78: ['C'],\n",
      " 11.8: [],\n",
      " 11.82: [],\n",
      " 11.84: [],\n",
      " 11.86: ['C'],\n",
      " 11.88: [],\n",
      " 11.9: [],\n",
      " 11.92: [],\n",
      " 11.94: [],\n",
      " 11.96: [],\n",
      " 11.98: [],\n",
      " 12.0: [],\n",
      " 12.02: [],\n",
      " 12.04: [],\n",
      " 12.06: [],\n",
      " 12.08: [],\n",
      " 12.1: [],\n",
      " 12.12: [],\n",
      " 12.14: [],\n",
      " 12.16: [],\n",
      " 12.18: [],\n",
      " 12.2: [],\n",
      " 12.22: [],\n",
      " 12.24: [],\n",
      " 12.26: [],\n",
      " 12.28: [],\n",
      " 12.3: [],\n",
      " 12.32: ['F'],\n",
      " 12.34: [],\n",
      " 12.36: [],\n",
      " 12.38: [],\n",
      " 12.4: [],\n",
      " 12.42: [],\n",
      " 12.44: ['D'],\n",
      " 12.46: ['D'],\n",
      " 12.48: ['D'],\n",
      " 12.5: ['D'],\n",
      " 12.52: ['D'],\n",
      " 12.54: ['D'],\n",
      " 12.56: ['D'],\n",
      " 12.58: ['D'],\n",
      " 12.6: ['D'],\n",
      " 12.62: [],\n",
      " 12.64: [],\n",
      " 12.66: ['F#'],\n",
      " 12.68: [],\n",
      " 12.7: ['F#'],\n",
      " 12.72: ['F#'],\n",
      " 12.74: ['F#'],\n",
      " 12.76: ['F#'],\n",
      " 12.78: ['F#'],\n",
      " 12.8: ['F#'],\n",
      " 12.82: ['F#'],\n",
      " 12.84: [],\n",
      " 12.86: [],\n",
      " 12.88: ['F#'],\n",
      " 12.9: ['F#'],\n",
      " 12.92: ['F#'],\n",
      " 12.94: ['F#'],\n",
      " 12.96: ['F#'],\n",
      " 12.98: ['F#'],\n",
      " 13.0: ['D'],\n",
      " 13.02: ['D'],\n",
      " 13.04: ['D'],\n",
      " 13.06: ['D'],\n",
      " 13.08: ['D'],\n",
      " 13.1: ['D'],\n",
      " 13.12: ['D'],\n",
      " 13.14: ['D'],\n",
      " 13.16: ['D'],\n",
      " 13.18: ['D'],\n",
      " 13.2: ['D'],\n",
      " 13.22: ['D'],\n",
      " 13.24: ['D'],\n",
      " 13.26: ['D'],\n",
      " 13.28: ['D', 'F#'],\n",
      " 13.3: ['D', 'F#'],\n",
      " 13.32: ['F#'],\n",
      " 13.34: ['D', 'F#'],\n",
      " 13.36: ['D', 'F#'],\n",
      " 13.38: ['F#'],\n",
      " 13.4: ['F#'],\n",
      " 13.42: ['F#'],\n",
      " 13.44: ['F#'],\n",
      " 13.46: ['F#'],\n",
      " 13.48: ['F#'],\n",
      " 13.5: ['D', 'F#'],\n",
      " 13.52: ['F#'],\n",
      " 13.54: ['F#'],\n",
      " 13.56: ['F#'],\n",
      " 13.58: ['D', 'F#'],\n",
      " 13.6: ['F#'],\n",
      " 13.62: ['D'],\n",
      " 13.64: ['D'],\n",
      " 13.66: ['D'],\n",
      " 13.68: ['D'],\n",
      " 13.7: ['D'],\n",
      " 13.72: ['D'],\n",
      " 13.74: ['D'],\n",
      " 13.76: ['D'],\n",
      " 13.78: ['D'],\n",
      " 13.8: ['D'],\n",
      " 13.82: ['D'],\n",
      " 13.84: ['D'],\n",
      " 13.86: ['D'],\n",
      " 13.88: ['D'],\n",
      " 13.9: ['D'],\n",
      " 13.92: ['D'],\n",
      " 13.94: ['D'],\n",
      " 13.96: ['D'],\n",
      " 13.98: ['D'],\n",
      " 14.0: ['D'],\n",
      " 14.02: ['D'],\n",
      " 14.04: ['E'],\n",
      " 14.06: [],\n",
      " 14.08: [],\n",
      " 14.1: ['D'],\n",
      " 14.12: [],\n",
      " 14.14: ['D'],\n",
      " 14.16: [],\n",
      " 14.18: ['D'],\n",
      " 14.2: ['D'],\n",
      " 14.22: ['D'],\n",
      " 14.24: ['D'],\n",
      " 14.26: ['D'],\n",
      " 14.28: ['D'],\n",
      " 14.3: ['D'],\n",
      " 14.32: ['D'],\n",
      " 14.34: ['D'],\n",
      " 14.36: ['D'],\n",
      " 14.38: ['D'],\n",
      " 14.4: ['D'],\n",
      " 14.42: ['D'],\n",
      " 14.44: ['D'],\n",
      " 14.46: ['D'],\n",
      " 14.48: ['D'],\n",
      " 14.5: ['D'],\n",
      " 14.52: ['D'],\n",
      " 14.54: ['D'],\n",
      " 14.56: ['D'],\n",
      " 14.58: ['D'],\n",
      " 14.6: ['D'],\n",
      " 14.62: ['D'],\n",
      " 14.64: [],\n",
      " 14.66: ['D'],\n",
      " 14.68: [],\n",
      " 14.7: ['D'],\n",
      " 14.72: ['D'],\n",
      " 14.74: ['D'],\n",
      " 14.76: [],\n",
      " 14.78: ['D'],\n",
      " 14.8: ['D'],\n",
      " 14.82: ['D'],\n",
      " 14.84: ['D'],\n",
      " 14.86: ['D'],\n",
      " 14.88: ['D'],\n",
      " 14.9: ['D'],\n",
      " 14.92: ['D'],\n",
      " 14.94: ['D'],\n",
      " 14.96: ['D'],\n",
      " 14.98: ['D'],\n",
      " 15.0: ['D'],\n",
      " 15.02: ['D'],\n",
      " 15.04: ['D'],\n",
      " 15.06: ['D'],\n",
      " 15.08: ['D'],\n",
      " 15.1: [],\n",
      " 15.12: [],\n",
      " 15.14: [],\n",
      " 15.16: [],\n",
      " 15.18: [],\n",
      " 15.2: [],\n",
      " 15.22: [],\n",
      " 15.24: [],\n",
      " 15.26: [],\n",
      " 15.28: [],\n",
      " 15.3: [],\n",
      " 15.32: ['F#'],\n",
      " 15.34: [],\n",
      " 15.36: [],\n",
      " 15.38: ['F#'],\n",
      " 15.4: [],\n",
      " 15.42: ['D'],\n",
      " 15.44: ['D', 'F#'],\n",
      " 15.46: ['D'],\n",
      " 15.48: ['D'],\n",
      " 15.5: ['D'],\n",
      " 15.52: ['D'],\n",
      " 15.54: ['D'],\n",
      " 15.56: ['D'],\n",
      " 15.58: [],\n",
      " 15.6: ['C'],\n",
      " 15.62: ['C'],\n",
      " 15.64: ['C'],\n",
      " 15.66: ['C'],\n",
      " 15.68: ['C'],\n",
      " 15.7: ['C'],\n",
      " 15.72: ['C'],\n",
      " 15.74: ['A#'],\n",
      " 15.76: ['C#', 'A#'],\n",
      " 15.78: ['A#'],\n",
      " 15.8: ['A#'],\n",
      " 15.82: ['A#'],\n",
      " 15.84: ['A#'],\n",
      " 15.86: ['A#'],\n",
      " 15.88: ['A#'],\n",
      " 15.9: ['A#'],\n",
      " 15.92: ['A#'],\n",
      " 15.94: ['C', 'A#'],\n",
      " 15.96: ['C', 'A#'],\n",
      " 15.98: ['A#'],\n",
      " 16.0: [],\n",
      " 16.02: ['F'],\n",
      " 16.04: ['F'],\n",
      " 16.06: [],\n",
      " 16.08: [],\n",
      " 16.1: [],\n",
      " 16.12: [],\n",
      " 16.14: ['F#'],\n",
      " 16.16: [],\n",
      " 16.18: ['C'],\n",
      " 16.2: ['C'],\n",
      " 16.22: ['C'],\n",
      " 16.24: ['C', 'C#'],\n",
      " 16.26: ['C', 'C#'],\n",
      " 16.28: ['C', 'C#'],\n",
      " 16.3: ['C', 'C#'],\n",
      " 16.32: ['C', 'C#'],\n",
      " 16.34: ['C#'],\n",
      " 16.36: ['C#'],\n",
      " 16.38: ['C#'],\n",
      " 16.4: ['C#'],\n",
      " 16.42: [],\n",
      " 16.44: [],\n",
      " 16.46: [],\n",
      " 16.48: [],\n",
      " 16.5: [],\n",
      " 16.52: [],\n",
      " 16.54: [],\n",
      " 16.56: [],\n",
      " 16.58: ['C'],\n",
      " 16.6: ['C'],\n",
      " 16.62: ['C'],\n",
      " 16.64: ['C'],\n",
      " 16.66: ['C'],\n",
      " 16.68: ['C'],\n",
      " 16.7: ['C'],\n",
      " 16.72: ['C'],\n",
      " 16.74: ['C'],\n",
      " 16.76: [],\n",
      " 16.78: [],\n",
      " 16.8: ['F#'],\n",
      " 16.82: [],\n",
      " 16.84: [],\n",
      " 16.86: ['E'],\n",
      " 16.88: ['E'],\n",
      " 16.9: ['E'],\n",
      " 16.92: ['E'],\n",
      " 16.94: ['E'],\n",
      " 16.96: ['E'],\n",
      " 16.98: ['E'],\n",
      " 17.0: ['E'],\n",
      " 17.02: ['E'],\n",
      " 17.04: ['E'],\n",
      " 17.06: ['E'],\n",
      " 17.08: ['E'],\n",
      " 17.1: ['E'],\n",
      " 17.12: ['E'],\n",
      " 17.14: ['E'],\n",
      " 17.16: ['E'],\n",
      " 17.18: ['E'],\n",
      " 17.2: ['E'],\n",
      " 17.22: ['E'],\n",
      " 17.24: ['E'],\n",
      " 17.26: ['E'],\n",
      " 17.28: ['E'],\n",
      " 17.3: ['E'],\n",
      " 17.32: ['E'],\n",
      " 17.34: ['E'],\n",
      " 17.36: ['E'],\n",
      " 17.38: ['E'],\n",
      " 17.4: ['E'],\n",
      " 17.42: ['E'],\n",
      " 17.44: ['E'],\n",
      " 17.46: ['E'],\n",
      " 17.48: ['E'],\n",
      " 17.5: ['E'],\n",
      " 17.52: ['E'],\n",
      " 17.54: ['E'],\n",
      " 17.56: [],\n",
      " 17.58: ['E'],\n",
      " 17.6: [],\n",
      " 17.62: [],\n",
      " 17.64: [],\n",
      " 17.66: ['E'],\n",
      " 17.68: ['E'],\n",
      " 17.7: ['E'],\n",
      " 17.72: ['E'],\n",
      " 17.74: ['E'],\n",
      " 17.76: ['E'],\n",
      " 17.78: ['E'],\n",
      " 17.8: ['E'],\n",
      " 17.82: ['E'],\n",
      " 17.84: ['C#'],\n",
      " 17.86: ['C#'],\n",
      " 17.88: ['C#', 'E'],\n",
      " 17.9: ['C#', 'E'],\n",
      " 17.92: ['C#', 'E'],\n",
      " 17.94: ['C#', 'E'],\n",
      " 17.96: ['C#'],\n",
      " 17.98: ['E'],\n",
      " 18.0: ['E'],\n",
      " 18.02: ['E'],\n",
      " 18.04: ['E'],\n",
      " 18.06: ['E'],\n",
      " 18.08: ['E'],\n",
      " 18.1: ['E', 'F#'],\n",
      " 18.12: ['E'],\n",
      " 18.14: ['E'],\n",
      " 18.16: ['E'],\n",
      " 18.18: ['E'],\n",
      " 18.2: ['E'],\n",
      " 18.22: ['E'],\n",
      " 18.24: ['E'],\n",
      " 18.26: ['E'],\n",
      " 18.28: ['E'],\n",
      " 18.3: ['E'],\n",
      " 18.32: ['E'],\n",
      " 18.34: ['E'],\n",
      " 18.36: ['E'],\n",
      " 18.38: ['E'],\n",
      " 18.4: ['E'],\n",
      " 18.42: ['E'],\n",
      " 18.44: ['E'],\n",
      " 18.46: ['E'],\n",
      " 18.48: ['C#', 'E'],\n",
      " 18.5: ['C#'],\n",
      " 18.52: ['C#'],\n",
      " 18.54: ['C#'],\n",
      " 18.56: ['E'],\n",
      " 18.58: [],\n",
      " 18.6: [],\n",
      " 18.62: [],\n",
      " 18.64: ['E'],\n",
      " 18.66: [],\n",
      " 18.68: [],\n",
      " 18.7: [],\n",
      " 18.72: [],\n",
      " 18.74: [],\n",
      " 18.76: [],\n",
      " 18.78: [],\n",
      " 18.8: [],\n",
      " 18.82: ['E'],\n",
      " 18.84: ['E'],\n",
      " 18.86: ['E'],\n",
      " 18.88: ['E'],\n",
      " 18.9: ['E'],\n",
      " 18.92: ['E'],\n",
      " 18.94: ['E'],\n",
      " 18.96: ['E'],\n",
      " 18.98: ['E'],\n",
      " 19.0: ['E'],\n",
      " 19.02: ['E'],\n",
      " 19.04: ['E'],\n",
      " 19.06: ['E'],\n",
      " 19.08: ['E'],\n",
      " 19.1: ['E'],\n",
      " 19.12: ['E'],\n",
      " 19.14: ['E'],\n",
      " 19.16: ['E'],\n",
      " 19.18: ['E'],\n",
      " 19.2: ['E'],\n",
      " 19.22: ['E'],\n",
      " 19.24: ['E'],\n",
      " 19.26: [],\n",
      " 19.28: [],\n",
      " 19.3: ['F#'],\n",
      " 19.32: ['F#'],\n",
      " 19.34: ['F#'],\n",
      " 19.36: ['E'],\n",
      " 19.38: [],\n",
      " 19.4: ['E'],\n",
      " 19.42: ['E'],\n",
      " 19.44: ['E'],\n",
      " 19.46: ['E'],\n",
      " 19.48: ['E'],\n",
      " 19.5: ['E'],\n",
      " 19.52: ['E'],\n",
      " 19.54: ['E'],\n",
      " 19.56: ['E'],\n",
      " 19.58: ['E'],\n",
      " 19.6: ['E'],\n",
      " 19.62: ['E'],\n",
      " 19.64: ['E'],\n",
      " 19.66: ['E'],\n",
      " 19.68: ['C#', 'E'],\n",
      " 19.7: ['C#', 'E'],\n",
      " 19.72: ['C#', 'E'],\n",
      " 19.74: ['C#', 'E'],\n",
      " 19.76: ['E'],\n",
      " 19.78: ['E'],\n",
      " 19.8: [],\n",
      " 19.82: [],\n",
      " 19.84: ['E'],\n",
      " 19.86: ['E'],\n",
      " 19.88: [],\n",
      " 19.9: [],\n",
      " 19.92: [],\n",
      " 19.94: [],\n",
      " 19.96: [],\n",
      " 19.98: [],\n",
      " 20.0: [],\n",
      " 20.02: ['E'],\n",
      " 20.04: ['E'],\n",
      " 20.06: ['E'],\n",
      " 20.08: ['E'],\n",
      " 20.1: ['E'],\n",
      " 20.12: ['E'],\n",
      " 20.14: ['E'],\n",
      " 20.16: ['E'],\n",
      " 20.18: ['E'],\n",
      " 20.2: ['E'],\n",
      " 20.22: ['E'],\n",
      " 20.24: ['E'],\n",
      " 20.26: ['C#', 'E'],\n",
      " 20.28: ['C#', 'E'],\n",
      " 20.3: ['C#', 'E'],\n",
      " 20.32: ['C#', 'E'],\n",
      " 20.34: ['E'],\n",
      " 20.36: ['C#', 'E'],\n",
      " 20.38: [],\n",
      " 20.4: [],\n",
      " 20.42: ['A#'],\n",
      " 20.44: ['A#'],\n",
      " 20.46: ['A#'],\n",
      " 20.48: ['A#'],\n",
      " 20.5: ['A#'],\n",
      " 20.52: ['A#'],\n",
      " 20.54: ['A#'],\n",
      " 20.56: ['A#'],\n",
      " 20.58: ['A#'],\n",
      " 20.6: ['A'],\n",
      " 20.62: ['A'],\n",
      " 20.64: ['A'],\n",
      " 20.66: ['A'],\n",
      " 20.68: ['A'],\n",
      " 20.7: ['A'],\n",
      " 20.72: ['A'],\n",
      " 20.74: ['A'],\n",
      " 20.76: ['A'],\n",
      " 20.78: ['A'],\n",
      " 20.8: ['A'],\n",
      " 20.82: [],\n",
      " 20.84: [],\n",
      " 20.86: [],\n",
      " 20.88: [],\n",
      " 20.9: ['A'],\n",
      " 20.92: ['A'],\n",
      " 20.94: ['A'],\n",
      " 20.96: [],\n",
      " 20.98: ['A#'],\n",
      " 21.0: ['A#'],\n",
      " 21.02: ['A#'],\n",
      " 21.04: ['A#'],\n",
      " 21.06: ['A#'],\n",
      " 21.08: ['A#'],\n",
      " 21.1: ['A#'],\n",
      " 21.12: ['A#'],\n",
      " 21.14: ['A#'],\n",
      " 21.16: [],\n",
      " 21.18: ['A'],\n",
      " 21.2: ['A'],\n",
      " 21.22: ['A'],\n",
      " 21.24: ['A'],\n",
      " 21.26: ['A'],\n",
      " 21.28: ['A'],\n",
      " 21.3: ['A'],\n",
      " 21.32: ['A'],\n",
      " 21.34: ['A'],\n",
      " 21.36: ['A'],\n",
      " 21.38: [],\n",
      " 21.4: ['D#'],\n",
      " 21.42: ['D#'],\n",
      " 21.44: [],\n",
      " 21.46: [],\n",
      " 21.48: ['A'],\n",
      " 21.5: [],\n",
      " 21.52: [],\n",
      " 21.54: [],\n",
      " 21.56: [],\n",
      " 21.58: ['F'],\n",
      " 21.6: ['F'],\n",
      " 21.62: ['F'],\n",
      " 21.64: ['F'],\n",
      " 21.66: ['F'],\n",
      " 21.68: ['F'],\n",
      " 21.7: ['F'],\n",
      " 21.72: ['F'],\n",
      " 21.74: ['F'],\n",
      " 21.76: [],\n",
      " 21.78: [],\n",
      " 21.8: [],\n",
      " 21.82: [],\n",
      " 21.84: [],\n",
      " 21.86: [],\n",
      " 21.88: [],\n",
      " 21.9: [],\n",
      " 21.92: ['F#'],\n",
      " 21.94: [],\n",
      " 21.96: ['A#']}\n"
     ]
    }
   ],
   "source": [
    "# Chromagram\n",
    "print(\"SIZES\", window_size, step_size)\n",
    "\n",
    "chromagram, time_axis, freq_axis = ShortTermFeatures.chromagram(x, Fs, window_size, step_size, plot=True,\n",
    "               show_progress=True)\n",
    "chromagram = chromagram.T\n",
    "# now get the notes at each frame\n",
    "threshold = 0.09\n",
    "note_names = ['C', 'C#', 'D', 'D#', 'E', 'F', 'F#', 'G', 'G#', 'A', 'A#', 'B']\n",
    "\n",
    "notes_at_timestamps = {}\n",
    "print(\"SHAPE\", chromagram.shape)\n",
    "print(\"time axis\", len(time_axis))\n",
    "for i, time in enumerate(time_axis):\n",
    "    # each column is that time index, so just look at this time index\n",
    "    chroma_frame = chromagram[:, i] \n",
    "    active_notes = np.where(chroma_frame>threshold)[0]\n",
    "\n",
    "    detected_notes = [note_names[note] for note in active_notes]\n",
    "    notes_at_timestamps[time] = detected_notes\n",
    "\n",
    "import pprint\n",
    "pprint.pprint(notes_at_timestamps)\n",
    "\n",
    "# ShortTermFeatures.spectrogram(x, Fs, window_size, step_size, plot=True,\n",
    "#                show_progress=True)"
   ]
  },
  {
   "cell_type": "code",
   "execution_count": null,
   "metadata": {},
   "outputs": [
    {
     "name": "stdout",
     "output_type": "stream",
     "text": [
      "Analyzing file 1 of 20: ./tmp/andshewas/audios/0.wav\n",
      "Analyzing file 2 of 20: ./tmp/andshewas/audios/1.wav\n",
      "Analyzing file 3 of 20: ./tmp/andshewas/audios/10.wav\n",
      "Analyzing file 4 of 20: ./tmp/andshewas/audios/11.wav\n",
      "Analyzing file 5 of 20: ./tmp/andshewas/audios/12.wav\n",
      "Analyzing file 6 of 20: ./tmp/andshewas/audios/13.wav\n",
      "Analyzing file 7 of 20: ./tmp/andshewas/audios/14.wav\n",
      "Analyzing file 8 of 20: ./tmp/andshewas/audios/15.wav\n",
      "Analyzing file 9 of 20: ./tmp/andshewas/audios/16.wav\n",
      "Analyzing file 10 of 20: ./tmp/andshewas/audios/17.wav\n",
      "Analyzing file 11 of 20: ./tmp/andshewas/audios/18.wav\n",
      "Analyzing file 12 of 20: ./tmp/andshewas/audios/19.wav\n",
      "Analyzing file 13 of 20: ./tmp/andshewas/audios/2.wav\n",
      "Analyzing file 14 of 20: ./tmp/andshewas/audios/3.wav\n",
      "Analyzing file 15 of 20: ./tmp/andshewas/audios/4.wav\n",
      "Analyzing file 16 of 20: ./tmp/andshewas/audios/5.wav\n",
      "Analyzing file 17 of 20: ./tmp/andshewas/audios/6.wav\n",
      "Analyzing file 18 of 20: ./tmp/andshewas/audios/7.wav\n",
      "Analyzing file 19 of 20: ./tmp/andshewas/audios/8.wav\n",
      "Analyzing file 20 of 20: ./tmp/andshewas/audios/9.wav\n",
      "Feature extraction complexity ratio: 133.1 x realtime\n"
     ]
    },
    {
     "data": {
      "image/png": "[encoded data removed]",
      "text/plain": [
       "<Figure size 640x480 with 1 Axes>"
      ]
     },
     "metadata": {},
     "output_type": "display_data"
    },
    {
     "data": {
      "application/vnd.plotly.v1+json": {
       "config": {
        "plotlyServerURL": "https://plot.ly"
       },
       "data": [
        {
         "coloraxis": "coloraxis",
         "hovertemplate": "Day of Week: %{x}<br>Time of Day: %{y}<br>Productivity: %{z}<extra></extra>",
         "name": "0",
         "type": "heatmap",
         "x": [
          "0",
          "1",
          "10",
          "11",
          "12",
          "13",
          "14",
          "15",
          "16",
          "17",
          "18",
          "19",
          "2",
          "3",
          "4",
          "5",
          "6",
          "7",
          "8",
          "9"
         ],
         "xaxis": "x",
         "y": [
          "0",
          "1",
          "10",
          "11",
          "12",
          "13",
          "14",
          "15",
          "16",
          "17",
          "18",
          "19",
          "2",
          "3",
          "4",
          "5",
          "6",
          "7",
          "8",
          "9"
         ],
         "yaxis": "y",
         "z": {
          "bdata": "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",
          "dtype": "f8",
          "shape": "20, 20"
         }
        }
       ],
       "layout": {
        "coloraxis": {
         "colorbar": {
          "title": {
           "text": "Productivity"
          }
         },
         "colorscale": [
          [
           0,
           "#0d0887"
          ],
          [
           0.1111111111111111,
           "#46039f"
          ],
          [
           0.2222222222222222,
           "#7201a8"
          ],
          [
           0.3333333333333333,
           "#9c179e"
          ],
          [
           0.4444444444444444,
           "#bd3786"
          ],
          [
           0.5555555555555556,
           "#d8576b"
          ],
          [
           0.6666666666666666,
           "#ed7953"
          ],
          [
           0.7777777777777778,
           "#fb9f3a"
          ],
          [
           0.8888888888888888,
           "#fdca26"
          ],
          [
           1,
           "#f0f921"
          ]
         ]
        },
        "margin": {
         "t": 60
        },
        "template": {
         "data": {
          "bar": [
           {
            "error_x": {
             "color": "#2a3f5f"
            },
            "error_y": {
             "color": "#2a3f5f"
            },
            "marker": {
             "line": {
              "color": "#E5ECF6",
              "width": 0.5
             },
             "pattern": {
              "fillmode": "overlay",
              "size": 10,
              "solidity": 0.2
             }
            },
            "type": "bar"
           }
          ],
          "barpolar": [
           {
            "marker": {
             "line": {
              "color": "#E5ECF6",
              "width": 0.5
             },
             "pattern": {
              "fillmode": "overlay",
              "size": 10,
              "solidity": 0.2
             }
            },
            "type": "barpolar"
           }
          ],
          "carpet": [
           {
            "aaxis": {
             "endlinecolor": "#2a3f5f",
             "gridcolor": "white",
             "linecolor": "white",
             "minorgridcolor": "white",
             "startlinecolor": "#2a3f5f"
            },
            "baxis": {
             "endlinecolor": "#2a3f5f",
             "gridcolor": "white",
             "linecolor": "white",
             "minorgridcolor": "white",
             "startlinecolor": "#2a3f5f"
            },
            "type": "carpet"
           }
          ],
          "choropleth": [
           {
            "colorbar": {
             "outlinewidth": 0,
             "ticks": ""
            },
            "type": "choropleth"
           }
          ],
          "contour": [
           {
            "colorbar": {
             "outlinewidth": 0,
             "ticks": ""
            },
            "colorscale": [
             [
              0,
              "#0d0887"
             ],
             [
              0.1111111111111111,
              "#46039f"
             ],
             [
              0.2222222222222222,
              "#7201a8"
             ],
             [
              0.3333333333333333,
              "#9c179e"
             ],
             [
              0.4444444444444444,
              "#bd3786"
             ],
             [
              0.5555555555555556,
              "#d8576b"
             ],
             [
              0.6666666666666666,
              "#ed7953"
             ],
             [
              0.7777777777777778,
              "#fb9f3a"
             ],
             [
              0.8888888888888888,
              "#fdca26"
             ],
             [
              1,
              "#f0f921"
             ]
            ],
            "type": "contour"
           }
          ],
          "contourcarpet": [
           {
            "colorbar": {
             "outlinewidth": 0,
             "ticks": ""
            },
            "type": "contourcarpet"
           }
          ],
          "heatmap": [
           {
            "colorbar": {
             "outlinewidth": 0,
             "ticks": ""
            },
            "colorscale": [
             [
              0,
              "#0d0887"
             ],
             [
              0.1111111111111111,
              "#46039f"
             ],
             [
              0.2222222222222222,
              "#7201a8"
             ],
             [
              0.3333333333333333,
              "#9c179e"
             ],
             [
              0.4444444444444444,
              "#bd3786"
             ],
             [
              0.5555555555555556,
              "#d8576b"
             ],
             [
              0.6666666666666666,
              "#ed7953"
             ],
             [
              0.7777777777777778,
              "#fb9f3a"
             ],
             [
              0.8888888888888888,
              "#fdca26"
             ],
             [
              1,
              "#f0f921"
             ]
            ],
            "type": "heatmap"
           }
          ],
          "histogram": [
           {
            "marker": {
             "pattern": {
              "fillmode": "overlay",
              "size": 10,
              "solidity": 0.2
             }
            },
            "type": "histogram"
           }
          ],
          "histogram2d": [
           {
            "colorbar": {
             "outlinewidth": 0,
             "ticks": ""
            },
            "colorscale": [
             [
              0,
              "#0d0887"
             ],
             [
              0.1111111111111111,
              "#46039f"
             ],
             [
              0.2222222222222222,
              "#7201a8"
             ],
             [
              0.3333333333333333,
              "#9c179e"
             ],
             [
              0.4444444444444444,
              "#bd3786"
             ],
             [
              0.5555555555555556,
              "#d8576b"
             ],
             [
              0.6666666666666666,
              "#ed7953"
             ],
             [
              0.7777777777777778,
              "#fb9f3a"
             ],
             [
              0.8888888888888888,
              "#fdca26"
             ],
             [
              1,
              "#f0f921"
             ]
            ],
            "type": "histogram2d"
           }
          ],
          "histogram2dcontour": [
           {
            "colorbar": {
             "outlinewidth": 0,
             "ticks": ""
            },
            "colorscale": [
             [
              0,
              "#0d0887"
             ],
             [
              0.1111111111111111,
              "#46039f"
             ],
             [
              0.2222222222222222,
              "#7201a8"
             ],
             [
              0.3333333333333333,
              "#9c179e"
             ],
             [
              0.4444444444444444,
              "#bd3786"
             ],
             [
              0.5555555555555556,
              "#d8576b"
             ],
             [
              0.6666666666666666,
              "#ed7953"
             ],
             [
              0.7777777777777778,
              "#fb9f3a"
             ],
             [
              0.8888888888888888,
              "#fdca26"
             ],
             [
              1,
              "#f0f921"
             ]
            ],
            "type": "histogram2dcontour"
           }
          ],
          "mesh3d": [
           {
            "colorbar": {
             "outlinewidth": 0,
             "ticks": ""
            },
            "type": "mesh3d"
           }
          ],
          "parcoords": [
           {
            "line": {
             "colorbar": {
              "outlinewidth": 0,
              "ticks": ""
             }
            },
            "type": "parcoords"
           }
          ],
          "pie": [
           {
            "automargin": true,
            "type": "pie"
           }
          ],
          "scatter": [
           {
            "fillpattern": {
             "fillmode": "overlay",
             "size": 10,
             "solidity": 0.2
            },
            "type": "scatter"
           }
          ],
          "scatter3d": [
           {
            "line": {
             "colorbar": {
              "outlinewidth": 0,
              "ticks": ""
             }
            },
            "marker": {
             "colorbar": {
              "outlinewidth": 0,
              "ticks": ""
             }
            },
            "type": "scatter3d"
           }
          ],
          "scattercarpet": [
           {
            "marker": {
             "colorbar": {
              "outlinewidth": 0,
              "ticks": ""
             }
            },
            "type": "scattercarpet"
           }
          ],
          "scattergeo": [
           {
            "marker": {
             "colorbar": {
              "outlinewidth": 0,
              "ticks": ""
             }
            },
            "type": "scattergeo"
           }
          ],
          "scattergl": [
           {
            "marker": {
             "colorbar": {
              "outlinewidth": 0,
              "ticks": ""
             }
            },
            "type": "scattergl"
           }
          ],
          "scattermap": [
           {
            "marker": {
             "colorbar": {
              "outlinewidth": 0,
              "ticks": ""
             }
            },
            "type": "scattermap"
           }
          ],
          "scattermapbox": [
           {
            "marker": {
             "colorbar": {
              "outlinewidth": 0,
              "ticks": ""
             }
            },
            "type": "scattermapbox"
           }
          ],
          "scatterpolar": [
           {
            "marker": {
             "colorbar": {
              "outlinewidth": 0,
              "ticks": ""
             }
            },
            "type": "scatterpolar"
           }
          ],
          "scatterpolargl": [
           {
            "marker": {
             "colorbar": {
              "outlinewidth": 0,
              "ticks": ""
             }
            },
            "type": "scatterpolargl"
           }
          ],
          "scatterternary": [
           {
            "marker": {
             "colorbar": {
              "outlinewidth": 0,
              "ticks": ""
             }
            },
            "type": "scatterternary"
           }
          ],
          "surface": [
           {
            "colorbar": {
             "outlinewidth": 0,
             "ticks": ""
            },
            "colorscale": [
             [
              0,
              "#0d0887"
             ],
             [
              0.1111111111111111,
              "#46039f"
             ],
             [
              0.2222222222222222,
              "#7201a8"
             ],
             [
              0.3333333333333333,
              "#9c179e"
             ],
             [
              0.4444444444444444,
              "#bd3786"
             ],
             [
              0.5555555555555556,
              "#d8576b"
             ],
             [
              0.6666666666666666,
              "#ed7953"
             ],
             [
              0.7777777777777778,
              "#fb9f3a"
             ],
             [
              0.8888888888888888,
              "#fdca26"
             ],
             [
              1,
              "#f0f921"
             ]
            ],
            "type": "surface"
           }
          ],
          "table": [
           {
            "cells": {
             "fill": {
              "color": "#EBF0F8"
             },
             "line": {
              "color": "white"
             }
            },
            "header": {
             "fill": {
              "color": "#C8D4E3"
             },
             "line": {
              "color": "white"
             }
            },
            "type": "table"
           }
          ]
         },
         "layout": {
          "annotationdefaults": {
           "arrowcolor": "#2a3f5f",
           "arrowhead": 0,
           "arrowwidth": 1
          },
          "autotypenumbers": "strict",
          "coloraxis": {
           "colorbar": {
            "outlinewidth": 0,
            "ticks": ""
           }
          },
          "colorscale": {
           "diverging": [
            [
             0,
             "#8e0152"
            ],
            [
             0.1,
             "#c51b7d"
            ],
            [
             0.2,
             "#de77ae"
            ],
            [
             0.3,
             "#f1b6da"
            ],
            [
             0.4,
             "#fde0ef"
            ],
            [
             0.5,
             "#f7f7f7"
            ],
            [
             0.6,
             "#e6f5d0"
            ],
            [
             0.7,
             "#b8e186"
            ],
            [
             0.8,
             "#7fbc41"
            ],
            [
             0.9,
             "#4d9221"
            ],
            [
             1,
             "#276419"
            ]
           ],
           "sequential": [
            [
             0,
             "#0d0887"
            ],
            [
             0.1111111111111111,
             "#46039f"
            ],
            [
             0.2222222222222222,
             "#7201a8"
            ],
            [
             0.3333333333333333,
             "#9c179e"
            ],
            [
             0.4444444444444444,
             "#bd3786"
            ],
            [
             0.5555555555555556,
             "#d8576b"
            ],
            [
             0.6666666666666666,
             "#ed7953"
            ],
            [
             0.7777777777777778,
             "#fb9f3a"
            ],
            [
             0.8888888888888888,
             "#fdca26"
            ],
            [
             1,
             "#f0f921"
            ]
           ],
           "sequentialminus": [
            [
             0,
             "#0d0887"
            ],
            [
             0.1111111111111111,
             "#46039f"
            ],
            [
             0.2222222222222222,
             "#7201a8"
            ],
            [
             0.3333333333333333,
             "#9c179e"
            ],
            [
             0.4444444444444444,
             "#bd3786"
            ],
            [
             0.5555555555555556,
             "#d8576b"
            ],
            [
             0.6666666666666666,
             "#ed7953"
            ],
            [
             0.7777777777777778,
             "#fb9f3a"
            ],
            [
             0.8888888888888888,
             "#fdca26"
            ],
            [
             1,
             "#f0f921"
            ]
           ]
          },
          "colorway": [
           "#636efa",
           "#EF553B",
           "#00cc96",
           "#ab63fa",
           "#FFA15A",
           "#19d3f3",
           "#FF6692",
           "#B6E880",
           "#FF97FF",
           "#FECB52"
          ],
          "font": {
           "color": "#2a3f5f"
          },
          "geo": {
           "bgcolor": "white",
           "lakecolor": "white",
           "landcolor": "#E5ECF6",
           "showlakes": true,
           "showland": true,
           "subunitcolor": "white"
          },
          "hoverlabel": {
           "align": "left"
          },
          "hovermode": "closest",
          "mapbox": {
           "style": "light"
          },
          "paper_bgcolor": "white",
          "plot_bgcolor": "#E5ECF6",
          "polar": {
           "angularaxis": {
            "gridcolor": "white",
            "linecolor": "white",
            "ticks": ""
           },
           "bgcolor": "#E5ECF6",
           "radialaxis": {
            "gridcolor": "white",
            "linecolor": "white",
            "ticks": ""
           }
          },
          "scene": {
           "xaxis": {
            "backgroundcolor": "#E5ECF6",
            "gridcolor": "white",
            "gridwidth": 2,
            "linecolor": "white",
            "showbackground": true,
            "ticks": "",
            "zerolinecolor": "white"
           },
           "yaxis": {
            "backgroundcolor": "#E5ECF6",
            "gridcolor": "white",
            "gridwidth": 2,
            "linecolor": "white",
            "showbackground": true,
            "ticks": "",
            "zerolinecolor": "white"
           },
           "zaxis": {
            "backgroundcolor": "#E5ECF6",
            "gridcolor": "white",
            "gridwidth": 2,
            "linecolor": "white",
            "showbackground": true,
            "ticks": "",
            "zerolinecolor": "white"
           }
          },
          "shapedefaults": {
           "line": {
            "color": "#2a3f5f"
           }
          },
          "ternary": {
           "aaxis": {
            "gridcolor": "white",
            "linecolor": "white",
            "ticks": ""
           },
           "baxis": {
            "gridcolor": "white",
            "linecolor": "white",
            "ticks": ""
           },
           "bgcolor": "#E5ECF6",
           "caxis": {
            "gridcolor": "white",
            "linecolor": "white",
            "ticks": ""
           }
          },
          "title": {
           "x": 0.05
          },
          "xaxis": {
           "automargin": true,
           "gridcolor": "white",
           "linecolor": "white",
           "ticks": "",
           "title": {
            "standoff": 15
           },
           "zerolinecolor": "white",
           "zerolinewidth": 2
          },
          "yaxis": {
           "automargin": true,
           "gridcolor": "white",
           "linecolor": "white",
           "ticks": "",
           "title": {
            "standoff": 15
           },
           "zerolinecolor": "white",
           "zerolinewidth": 2
          }
         }
        },
        "xaxis": {
         "anchor": "y",
         "constrain": "domain",
         "domain": [
          0,
          1
         ],
         "scaleanchor": "y",
         "side": "top",
         "title": {
          "text": "Day of Week"
         }
        },
        "yaxis": {
         "anchor": "x",
         "autorange": "reversed",
         "constrain": "domain",
         "domain": [
          0,
          1
         ],
         "title": {
          "text": "Time of Day"
         }
        }
       }
      }
     },
     "metadata": {},
     "output_type": "display_data"
    },
    {
     "data": {
      "image/png": "[encoded data removed]",
      "text/plain": [
       "<Figure size 640x480 with 1 Axes>"
      ]
     },
     "metadata": {},
     "output_type": "display_data"
    },
    {
     "data": {
      "application/vnd.plotly.v1+json": {
       "config": {
        "plotlyServerURL": "https://plot.ly"
       },
       "data": [
        {
         "coloraxis": "coloraxis",
         "hovertemplate": "Day of Week: %{x}<br>Time of Day: %{y}<br>Productivity: %{z}<extra></extra>",
         "name": "0",
         "type": "heatmap",
         "x": [
          "0",
          "1",
          "10",
          "11",
          "12",
          "13",
          "14",
          "15",
          "16",
          "17",
          "18",
          "19",
          "2",
          "3",
          "4",
          "5",
          "6",
          "7",
          "8",
          "9"
         ],
         "xaxis": "x",
         "y": [
          "0",
          "1",
          "10",
          "11",
          "12",
          "13",
          "14",
          "15",
          "16",
          "17",
          "18",
          "19",
          "2",
          "3",
          "4",
          "5",
          "6",
          "7",
          "8",
          "9"
         ],
         "yaxis": "y",
         "z": {
          "bdata": "AAAAAAAA8D8EiLoltP/vP3nnlDeg/+8/+pT50e//7z8KGsqg+P/vP5jUwTC9Jua/WPdDQb9w5r+gnYJcrBjqv3AOWmOLHua/JIvfYwWN57+cyOC9pv3tP+cCqzvtJe4/GSMxLaef7T/3VKyCetLtP1rJfmMm6u0/fKqDBibB2j8VTyEDvm7gP/BxCzpGcts/5Op093X+2z+cfBg20HTcPwSIuiW0/+8/AAAAAAAA8D+quKLlqf7vP/UzY+dd/+8/vj91e33/7z8k5khsQPTlv2yYalPePua/VBKvwhvw6b+Qvi6b/evlv44+OtmhXee/MfdORqwV7j9j9DN0AT3uPx4/1Be6ue0/C4/8b3fr7T+JwVoJnQLuP3QdLiB9P9s/P8k/PWCq4D+osU9r5+/bP1T74S6De9w/ME+BtF3x3D9555Q3oP/vP6q4ouWp/u8/AAAAAAAA8D9A30nF3v/vP/jcdv3N/+8/2F3Ir/te5r8YGE3/TKjmv6AqrBuuReq/lpZPL91W5r+Ax0SbwMHnvzY/+L3+4e0//4+oglML7j93X93esoHtP6jso3a9te0/jPbltf/N7T9ItoQhljLaPzbXHBxeK+A/Lo/a1H7k2j8QasjBUXHbPyrAKuk46Ns/+pT50e//7z/1M2PnXf/vP0DfScXe/+8/AAAAAAAA8D9PZX9K/v/vP2iidhbrPea/wLYPt6SH5r/cYKjCPivqv0iz3THBNea/LjqKscKi578tYc+PXvLtP0dwjUAUG+4/S88Z72yT7T8ekTBXwMbtP9SpjBaq3u0/nN2mb6GG2j+wYVP0GFPgP7hofIsUONs/FvxmwIfE2z9MGNw+HDvcPwoayqD4/+8/vj91e33/7z/43Hb9zf/vP09lf0r+/+8/AAAAAAAA8D8Mv2IIZTbmvzT/8js2gOa/OASgejgl6r9sgNGQOC7mv+yOJJa0m+e/MNxqiwz27T/YwuMcnh7uP/Rj14tpl+0/oBzyWZPK7T++LWsAaeLtP2YSbBWpmdo/sle/0BZc4D9IWAVTAUvbPwLeQqpe19s/OlOER+BN3D+Y1MEwvSbmvyTmSGxA9OW/2F3Ir/te5r9oonYW6z3mvwy/YghlNua/AAAAAAAA8D8jg3urWf/vPw9mjF0Pbu8/l1j0/P3/7z82jhsU/+/vP4RpucCxadm/7PgOiCxB2r/o7OvE2ovXv8zGlXswiti/VG50otQD2b/spiQkEHDXPzJYwlrX4dA/lFdsf7O51j8Cxv0NCyjWPxJleDElrNU/WPdDQb9w5r9smGpT3j7mvxgYTf9MqOa/wLYPt6SH5r80//I7NoDmvyODe6tZ/+8/AAAAAAAA8D945g5Oz4DvP2iykxIz/+8/ok06Ocv17z8okDVkjybav9CMeUXT/Nq/lFat+z9L2L9YpvscREjZvzD/zR1Bwdm/LEeqWpOv1j+qWunjdRrQP0Q7NA9X+NU/Joc0vQFm1T/A3QjPjOnUP6CdglysGOq/VBKvwhvw6b+gKqwbrkXqv9xgqMI+K+q/OASgejgl6r8PZoxdD27vP3jmDk7PgO8/AAAAAAAA8D8Q8XmC62vvP3syybiEvu8/IL1s/77/4b/wNTpDomDiv6zZ+t2rJ+G/uKxxzuKa4b+GbCny0tHhv7RbF5R5qMc/cKB64Uzssz/ovHkgvyfGP2CYi7Ef9cQ/DKlCpcXwwz9wDlpjix7mv5C+Lpv96+W/lpZPL91W5r9Is90xwTXmv2yA0ZA4Lua/l1j0/P3/7z9ospMSM//vPxDxeYLra+8/AAAAAAAA8D8fPv2UR+/vPxxvRvzbVNm/ODxwbHgs2r8I5sT2vnbXvyy47iw5ddi/qOnLaO/u2L+Y7J/hLIXXP+Qnz1a699A/ZHWsSenO1j8ALSQ4VD3WP4S9cGZ+wdU/JIvfYwWN57+OPjrZoV3nv4DHRJvAwee/LjqKscKi57/sjiSWtJvnvzaOGxT/7+8/ok06Ocv17z97Msm4hL7vPx8+/ZRH7+8/AAAAAAAA8D/QzGa0cQjdvxifriiQ2d2//HYM+OU3279cSzd3Sy/cv/Q8992Bpdy/VDo/Otar0z9oEUl6E/zJP+YGfPVs8dI/wBnQGqVc0j+47p4CK97RP5zI4L2m/e0/MfdORqwV7j82P/i9/uHtPy1hz49e8u0/MNxqiwz27T+EabnAsWnZvyiQNWSPJtq/IL1s/77/4b8cb0b821TZv9DMZrRxCN2/AAAAAAAA8D97TRZSJ//vPzBF3i/r++8/WUkPzhn/7z8PKF0F0P/vP6Et+77zrOY/F3Wteyj66D/P8DVdhPHmP6K20E12J+c/AxfpEchU5z/nAqs77SXuP2P0M3QBPe4//4+oglML7j9HcI1AFBvuP9jC4xyeHu4/7PgOiCxB2r/QjHlF0/zav/A1OkOiYOK/ODxwbHgs2r8Yn64okNndv3tNFlIn/+8/AAAAAAAA8D9SRJomW/fvP/pjz4CC/O8/2etGbiv+7z8+/59aQ1nmP9+n++Tir+g/k25tl9Ke5j94dwQ7kdXmP9AqWwiSA+c/GSMxLaef7T8eP9QXurntP3df3d6yge0/S88Z72yT7T/0Y9eLaZftP+js68Tai9e/lFat+z9L2L+s2frdqyfhvwjmxPa+dte//HYM+OU3278wRd4v6/vvP1JEmiZb9+8/AAAAAAAA8D+w0KjL2f7vP1yi1/Z6/e8/6F58NX9g5z9UhXc+mZjpP03FDArUouc/9Gx8g/rW5z8x66iLwwLoP/dUrIJ60u0/C4/8b3fr7T+o7KN2vbXtPx6RMFfAxu0/oBzyWZPK7T/MxpV7MIrYv1im+xxESNm/uKxxzuKa4b8suO4sOXXYv1xLN3dLL9y/WUkPzhn/7z/6Y8+AgvzvP7DQqMvZ/u8/AAAAAAAA8D8AtZsCvP/vPx0JQc/0Aec/iEhmE1RF6T87oBMxe0XnPy7/liiXeuc/raXTADKn5z9ayX5jJurtP4nBWgmdAu4/jPbltf/N7T/UqYwWqt7tP74tawBp4u0/VG50otQD2b8w/80dQcHZv4ZsKfLS0eG/qOnLaO/u2L/0PPfdgaXcvw8oXQXQ/+8/2etGbiv+7z9cotf2ev3vPwC1mwK8/+8/AAAAAAAA8D8skAw169PmP4yyObSmHOk/W4LuwAIY5z9YxWdhk03nP83VL/OReuc/fKqDBibB2j90HS4gfT/bP0i2hCGWMto/nN2mb6GG2j9mEmwVqZnaP+ymJCQQcNc/LEeqWpOv1j+0WxeUeajHP5jsn+Eshdc/VDo/Otar0z+hLfu+86zmPz7/n1pDWeY/6F58NX9g5z8dCUHP9AHnPyyQDDXr0+Y/AAAAAAAA8D9ki/mBRtDvP5QQrqtq/+8/6RronB7+7z+QoRgQcfzvPxVPIQO+buA/P8k/PWCq4D821xwcXivgP7BhU/QYU+A/sle/0BZc4D8yWMJa1+HQP6pa6eN1GtA/cKB64Uzssz/kJ89WuvfQP2gRSXoT/Mk/F3Wteyj66D/fp/vk4q/oP1SFdz6ZmOk/iEhmE1RF6T+Msjm0phzpP2SL+YFG0O8/AAAAAAAA8D8nARh+O9rvP08Rt99S4e8/gZoRksLm7z/wcQs6RnLbP6ixT2vn79s/Lo/a1H7k2j+4aHyLFDjbP0hYBVMBS9s/lFdsf7O51j9EOzQPV/jVP+i8eSC/J8Y/ZHWsSenO1j/mBnz1bPHSP8/wNV2E8eY/k25tl9Ke5j9NxQwK1KLnPzugEzF7Rec/W4LuwAIY5z+UEK6rav/vPycBGH472u8/AAAAAAAA8D/ruISBof/vP4AoYVm9/u8/5Op093X+2z9U++Eug3vcPxBqyMFRcds/FvxmwIfE2z8C3kKqXtfbPwLG/Q0LKNY/Joc0vQFm1T9gmIuxH/XEPwAtJDhUPdY/wBnQGqVc0j+ittBNdifnP3h3BDuR1eY/9Gx8g/rW5z8u/5Yol3rnP1jFZ2GTTec/6RronB7+7z9PEbffUuHvP+u4hIGh/+8/AAAAAAAA8D+PJGgSvP/vP5x8GDbQdNw/ME+BtF3x3D8qwCrpOOjbP0wY3D4cO9w/OlOER+BN3D8SZXgxJazVP8DdCM+M6dQ/DKlCpcXwwz+EvXBmfsHVP7jungIr3tE/AxfpEchU5z/QKlsIkgPnPzHrqIvDAug/raXTADKn5z/N1S/zkXrnP5ChGBBx/O8/gZoRksLm7z+AKGFZvf7vP48kaBK8/+8/AAAAAAAA8D8=",
          "dtype": "f8",
          "shape": "20, 20"
         }
        }
       ],
       "layout": {
        "coloraxis": {
         "colorbar": {
          "title": {
           "text": "Productivity"
          }
         },
         "colorscale": [
          [
           0,
           "#0d0887"
          ],
          [
           0.1111111111111111,
           "#46039f"
          ],
          [
           0.2222222222222222,
           "#7201a8"
          ],
          [
           0.3333333333333333,
           "#9c179e"
          ],
          [
           0.4444444444444444,
           "#bd3786"
          ],
          [
           0.5555555555555556,
           "#d8576b"
          ],
          [
           0.6666666666666666,
           "#ed7953"
          ],
          [
           0.7777777777777778,
           "#fb9f3a"
          ],
          [
           0.8888888888888888,
           "#fdca26"
          ],
          [
           1,
           "#f0f921"
          ]
         ]
        },
        "margin": {
         "t": 60
        },
        "template": {
         "data": {
          "bar": [
           {
            "error_x": {
             "color": "#2a3f5f"
            },
            "error_y": {
             "color": "#2a3f5f"
            },
            "marker": {
             "line": {
              "color": "#E5ECF6",
              "width": 0.5
             },
             "pattern": {
              "fillmode": "overlay",
              "size": 10,
              "solidity": 0.2
             }
            },
            "type": "bar"
           }
          ],
          "barpolar": [
           {
            "marker": {
             "line": {
              "color": "#E5ECF6",
              "width": 0.5
             },
             "pattern": {
              "fillmode": "overlay",
              "size": 10,
              "solidity": 0.2
             }
            },
            "type": "barpolar"
           }
          ],
          "carpet": [
           {
            "aaxis": {
             "endlinecolor": "#2a3f5f",
             "gridcolor": "white",
             "linecolor": "white",
             "minorgridcolor": "white",
             "startlinecolor": "#2a3f5f"
            },
            "baxis": {
             "endlinecolor": "#2a3f5f",
             "gridcolor": "white",
             "linecolor": "white",
             "minorgridcolor": "white",
             "startlinecolor": "#2a3f5f"
            },
            "type": "carpet"
           }
          ],
          "choropleth": [
           {
            "colorbar": {
             "outlinewidth": 0,
             "ticks": ""
            },
            "type": "choropleth"
           }
          ],
          "contour": [
           {
            "colorbar": {
             "outlinewidth": 0,
             "ticks": ""
            },
            "colorscale": [
             [
              0,
              "#0d0887"
             ],
             [
              0.1111111111111111,
              "#46039f"
             ],
             [
              0.2222222222222222,
              "#7201a8"
             ],
             [
              0.3333333333333333,
              "#9c179e"
             ],
             [
              0.4444444444444444,
              "#bd3786"
             ],
             [
              0.5555555555555556,
              "#d8576b"
             ],
             [
              0.6666666666666666,
              "#ed7953"
             ],
             [
              0.7777777777777778,
              "#fb9f3a"
             ],
             [
              0.8888888888888888,
              "#fdca26"
             ],
             [
              1,
              "#f0f921"
             ]
            ],
            "type": "contour"
           }
          ],
          "contourcarpet": [
           {
            "colorbar": {
             "outlinewidth": 0,
             "ticks": ""
            },
            "type": "contourcarpet"
           }
          ],
          "heatmap": [
           {
            "colorbar": {
             "outlinewidth": 0,
             "ticks": ""
            },
            "colorscale": [
             [
              0,
              "#0d0887"
             ],
             [
              0.1111111111111111,
              "#46039f"
             ],
             [
              0.2222222222222222,
              "#7201a8"
             ],
             [
              0.3333333333333333,
              "#9c179e"
             ],
             [
              0.4444444444444444,
              "#bd3786"
             ],
             [
              0.5555555555555556,
              "#d8576b"
             ],
             [
              0.6666666666666666,
              "#ed7953"
             ],
             [
              0.7777777777777778,
              "#fb9f3a"
             ],
             [
              0.8888888888888888,
              "#fdca26"
             ],
             [
              1,
              "#f0f921"
             ]
            ],
            "type": "heatmap"
           }
          ],
          "histogram": [
           {
            "marker": {
             "pattern": {
              "fillmode": "overlay",
              "size": 10,
              "solidity": 0.2
             }
            },
            "type": "histogram"
           }
          ],
          "histogram2d": [
           {
            "colorbar": {
             "outlinewidth": 0,
             "ticks": ""
            },
            "colorscale": [
             [
              0,
              "#0d0887"
             ],
             [
              0.1111111111111111,
              "#46039f"
             ],
             [
              0.2222222222222222,
              "#7201a8"
             ],
             [
              0.3333333333333333,
              "#9c179e"
             ],
             [
              0.4444444444444444,
              "#bd3786"
             ],
             [
              0.5555555555555556,
              "#d8576b"
             ],
             [
              0.6666666666666666,
              "#ed7953"
             ],
             [
              0.7777777777777778,
              "#fb9f3a"
             ],
             [
              0.8888888888888888,
              "#fdca26"
             ],
             [
              1,
              "#f0f921"
             ]
            ],
            "type": "histogram2d"
           }
          ],
          "histogram2dcontour": [
           {
            "colorbar": {
             "outlinewidth": 0,
             "ticks": ""
            },
            "colorscale": [
             [
              0,
              "#0d0887"
             ],
             [
              0.1111111111111111,
              "#46039f"
             ],
             [
              0.2222222222222222,
              "#7201a8"
             ],
             [
              0.3333333333333333,
              "#9c179e"
             ],
             [
              0.4444444444444444,
              "#bd3786"
             ],
             [
              0.5555555555555556,
              "#d8576b"
             ],
             [
              0.6666666666666666,
              "#ed7953"
             ],
             [
              0.7777777777777778,
              "#fb9f3a"
             ],
             [
              0.8888888888888888,
              "#fdca26"
             ],
             [
              1,
              "#f0f921"
             ]
            ],
            "type": "histogram2dcontour"
           }
          ],
          "mesh3d": [
           {
            "colorbar": {
             "outlinewidth": 0,
             "ticks": ""
            },
            "type": "mesh3d"
           }
          ],
          "parcoords": [
           {
            "line": {
             "colorbar": {
              "outlinewidth": 0,
              "ticks": ""
             }
            },
            "type": "parcoords"
           }
          ],
          "pie": [
           {
            "automargin": true,
            "type": "pie"
           }
          ],
          "scatter": [
           {
            "fillpattern": {
             "fillmode": "overlay",
             "size": 10,
             "solidity": 0.2
            },
            "type": "scatter"
           }
          ],
          "scatter3d": [
           {
            "line": {
             "colorbar": {
              "outlinewidth": 0,
              "ticks": ""
             }
            },
            "marker": {
             "colorbar": {
              "outlinewidth": 0,
              "ticks": ""
             }
            },
            "type": "scatter3d"
           }
          ],
          "scattercarpet": [
           {
            "marker": {
             "colorbar": {
              "outlinewidth": 0,
              "ticks": ""
             }
            },
            "type": "scattercarpet"
           }
          ],
          "scattergeo": [
           {
            "marker": {
             "colorbar": {
              "outlinewidth": 0,
              "ticks": ""
             }
            },
            "type": "scattergeo"
           }
          ],
          "scattergl": [
           {
            "marker": {
             "colorbar": {
              "outlinewidth": 0,
              "ticks": ""
             }
            },
            "type": "scattergl"
           }
          ],
          "scattermap": [
           {
            "marker": {
             "colorbar": {
              "outlinewidth": 0,
              "ticks": ""
             }
            },
            "type": "scattermap"
           }
          ],
          "scattermapbox": [
           {
            "marker": {
             "colorbar": {
              "outlinewidth": 0,
              "ticks": ""
             }
            },
            "type": "scattermapbox"
           }
          ],
          "scatterpolar": [
           {
            "marker": {
             "colorbar": {
              "outlinewidth": 0,
              "ticks": ""
             }
            },
            "type": "scatterpolar"
           }
          ],
          "scatterpolargl": [
           {
            "marker": {
             "colorbar": {
              "outlinewidth": 0,
              "ticks": ""
             }
            },
            "type": "scatterpolargl"
           }
          ],
          "scatterternary": [
           {
            "marker": {
             "colorbar": {
              "outlinewidth": 0,
              "ticks": ""
             }
            },
            "type": "scatterternary"
           }
          ],
          "surface": [
           {
            "colorbar": {
             "outlinewidth": 0,
             "ticks": ""
            },
            "colorscale": [
             [
              0,
              "#0d0887"
             ],
             [
              0.1111111111111111,
              "#46039f"
             ],
             [
              0.2222222222222222,
              "#7201a8"
             ],
             [
              0.3333333333333333,
              "#9c179e"
             ],
             [
              0.4444444444444444,
              "#bd3786"
             ],
             [
              0.5555555555555556,
              "#d8576b"
             ],
             [
              0.6666666666666666,
              "#ed7953"
             ],
             [
              0.7777777777777778,
              "#fb9f3a"
             ],
             [
              0.8888888888888888,
              "#fdca26"
             ],
             [
              1,
              "#f0f921"
             ]
            ],
            "type": "surface"
           }
          ],
          "table": [
           {
            "cells": {
             "fill": {
              "color": "#EBF0F8"
             },
             "line": {
              "color": "white"
             }
            },
            "header": {
             "fill": {
              "color": "#C8D4E3"
             },
             "line": {
              "color": "white"
             }
            },
            "type": "table"
           }
          ]
         },
         "layout": {
          "annotationdefaults": {
           "arrowcolor": "#2a3f5f",
           "arrowhead": 0,
           "arrowwidth": 1
          },
          "autotypenumbers": "strict",
          "coloraxis": {
           "colorbar": {
            "outlinewidth": 0,
            "ticks": ""
           }
          },
          "colorscale": {
           "diverging": [
            [
             0,
             "#8e0152"
            ],
            [
             0.1,
             "#c51b7d"
            ],
            [
             0.2,
             "#de77ae"
            ],
            [
             0.3,
             "#f1b6da"
            ],
            [
             0.4,
             "#fde0ef"
            ],
            [
             0.5,
             "#f7f7f7"
            ],
            [
             0.6,
             "#e6f5d0"
            ],
            [
             0.7,
             "#b8e186"
            ],
            [
             0.8,
             "#7fbc41"
            ],
            [
             0.9,
             "#4d9221"
            ],
            [
             1,
             "#276419"
            ]
           ],
           "sequential": [
            [
             0,
             "#0d0887"
            ],
            [
             0.1111111111111111,
             "#46039f"
            ],
            [
             0.2222222222222222,
             "#7201a8"
            ],
            [
             0.3333333333333333,
             "#9c179e"
            ],
            [
             0.4444444444444444,
             "#bd3786"
            ],
            [
             0.5555555555555556,
             "#d8576b"
            ],
            [
             0.6666666666666666,
             "#ed7953"
            ],
            [
             0.7777777777777778,
             "#fb9f3a"
            ],
            [
             0.8888888888888888,
             "#fdca26"
            ],
            [
             1,
             "#f0f921"
            ]
           ],
           "sequentialminus": [
            [
             0,
             "#0d0887"
            ],
            [
             0.1111111111111111,
             "#46039f"
            ],
            [
             0.2222222222222222,
             "#7201a8"
            ],
            [
             0.3333333333333333,
             "#9c179e"
            ],
            [
             0.4444444444444444,
             "#bd3786"
            ],
            [
             0.5555555555555556,
             "#d8576b"
            ],
            [
             0.6666666666666666,
             "#ed7953"
            ],
            [
             0.7777777777777778,
             "#fb9f3a"
            ],
            [
             0.8888888888888888,
             "#fdca26"
            ],
            [
             1,
             "#f0f921"
            ]
           ]
          },
          "colorway": [
           "#636efa",
           "#EF553B",
           "#00cc96",
           "#ab63fa",
           "#FFA15A",
           "#19d3f3",
           "#FF6692",
           "#B6E880",
           "#FF97FF",
           "#FECB52"
          ],
          "font": {
           "color": "#2a3f5f"
          },
          "geo": {
           "bgcolor": "white",
           "lakecolor": "white",
           "landcolor": "#E5ECF6",
           "showlakes": true,
           "showland": true,
           "subunitcolor": "white"
          },
          "hoverlabel": {
           "align": "left"
          },
          "hovermode": "closest",
          "mapbox": {
           "style": "light"
          },
          "paper_bgcolor": "white",
          "plot_bgcolor": "#E5ECF6",
          "polar": {
           "angularaxis": {
            "gridcolor": "white",
            "linecolor": "white",
            "ticks": ""
           },
           "bgcolor": "#E5ECF6",
           "radialaxis": {
            "gridcolor": "white",
            "linecolor": "white",
            "ticks": ""
           }
          },
          "scene": {
           "xaxis": {
            "backgroundcolor": "#E5ECF6",
            "gridcolor": "white",
            "gridwidth": 2,
            "linecolor": "white",
            "showbackground": true,
            "ticks": "",
            "zerolinecolor": "white"
           },
           "yaxis": {
            "backgroundcolor": "#E5ECF6",
            "gridcolor": "white",
            "gridwidth": 2,
            "linecolor": "white",
            "showbackground": true,
            "ticks": "",
            "zerolinecolor": "white"
           },
           "zaxis": {
            "backgroundcolor": "#E5ECF6",
            "gridcolor": "white",
            "gridwidth": 2,
            "linecolor": "white",
            "showbackground": true,
            "ticks": "",
            "zerolinecolor": "white"
           }
          },
          "shapedefaults": {
           "line": {
            "color": "#2a3f5f"
           }
          },
          "ternary": {
           "aaxis": {
            "gridcolor": "white",
            "linecolor": "white",
            "ticks": ""
           },
           "baxis": {
            "gridcolor": "white",
            "linecolor": "white",
            "ticks": ""
           },
           "bgcolor": "#E5ECF6",
           "caxis": {
            "gridcolor": "white",
            "linecolor": "white",
            "ticks": ""
           }
          },
          "title": {
           "x": 0.05
          },
          "xaxis": {
           "automargin": true,
           "gridcolor": "white",
           "linecolor": "white",
           "ticks": "",
           "title": {
            "standoff": 15
           },
           "zerolinecolor": "white",
           "zerolinewidth": 2
          },
          "yaxis": {
           "automargin": true,
           "gridcolor": "white",
           "linecolor": "white",
           "ticks": "",
           "title": {
            "standoff": 15
           },
           "zerolinecolor": "white",
           "zerolinewidth": 2
          }
         }
        },
        "xaxis": {
         "anchor": "y",
         "constrain": "domain",
         "domain": [
          0,
          1
         ],
         "scaleanchor": "y",
         "side": "top",
         "title": {
          "text": "Day of Week"
         }
        },
        "yaxis": {
         "anchor": "x",
         "autorange": "reversed",
         "constrain": "domain",
         "domain": [
          0,
          1
         ],
         "title": {
          "text": "Time of Day"
         }
        }
       }
      }
     },
     "metadata": {},
     "output_type": "display_data"
    }
   ],
   "source": [
    "from pyAudioAnalysis import audioVisualization\n",
    "audioVisualization.visualizeFeaturesFolder(audioDir, 'pca')\n",
    "audioVisualization.visualizeFeaturesFolder(audioDir, 'lda')"
   ]
  },
  {
   "cell_type": "code",
   "execution_count": null,
   "metadata": {},
   "outputs": [],
   "source": []
  }
 ],
 "metadata": {
  "kernelspec": {
   "display_name": "myenv",
   "language": "python",
   "name": "python3"
  },
  "language_info": {
   "codemirror_mode": {
    "name": "ipython",
    "version": 3
   },
   "file_extension": ".py",
   "mimetype": "text/x-python",
   "name": "python",
   "nbconvert_exporter": "python",
   "pygments_lexer": "ipython3",
   "version": "3.13.2"
  }
 },
 "nbformat": 4,
 "nbformat_minor": 2
}
